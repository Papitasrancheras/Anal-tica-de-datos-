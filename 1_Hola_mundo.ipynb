{
  "nbformat": 4,
  "nbformat_minor": 0,
  "metadata": {
    "colab": {
      "name": "1 Hola mundo.ipynb",
      "provenance": [],
      "collapsed_sections": [],
      "authorship_tag": "ABX9TyN9l2rgvh+7XjssalnZ1lRa",
      "include_colab_link": true
    },
    "kernelspec": {
      "name": "python3",
      "display_name": "Python 3"
    },
    "language_info": {
      "name": "python"
    }
  },
  "cells": [
    {
      "cell_type": "markdown",
      "metadata": {
        "id": "view-in-github",
        "colab_type": "text"
      },
      "source": [
        "<a href=\"https://colab.research.google.com/github/freddy-7/proyecto1/blob/main/1_Hola_mundo.ipynb\" target=\"_parent\"><img src=\"https://colab.research.google.com/assets/colab-badge.svg\" alt=\"Open In Colab\"/></a>"
      ]
    },
    {
      "cell_type": "code",
      "execution_count": null,
      "metadata": {
        "id": "zdCGYe92z3B_"
      },
      "outputs": [],
      "source": [
        "#Importamos las librerias: numpy y pyplot\n",
        "import numpy as np\n",
        "from matplotlib import pyplot as plt\n",
        "\n",
        "# Definimos 2 arreglos \n",
        "ys = 200 + np.random.randn(100)\n",
        "x = np.arange (0, 100, 1)\n",
        "\n",
        "#Graficamos los arreglos en un plano 2D\n",
        "plt.plot(x, ys, '-')\n",
        "plt.fill_between(x, ys, 195, where=(ys > 195), facecolor='g', alpha=0.6)\n",
        "\n",
        "\n",
        "#Agregamos título a la gráfica\n",
        "plt.title(\"Sample Visualization\")\n",
        "plt.xlabel(\"eje de las x\", size = 16,)\n",
        "plt.ylabel(\"eje de las y\", size = 16,)\n",
        "plt.show()"
      ]
    },
    {
      "cell_type": "code",
      "source": [
        ""
      ],
      "metadata": {
        "id": "YQPWGGelAj1z"
      },
      "execution_count": null,
      "outputs": []
    }
  ]
}